{
  "nbformat": 4,
  "nbformat_minor": 0,
  "metadata": {
    "colab": {
      "provenance": [],
      "authorship_tag": "ABX9TyMTb75Ufc9safCNHtaqiyZM",
      "include_colab_link": true
    },
    "kernelspec": {
      "name": "python3",
      "display_name": "Python 3"
    },
    "language_info": {
      "name": "python"
    }
  },
  "cells": [
    {
      "cell_type": "markdown",
      "metadata": {
        "id": "view-in-github",
        "colab_type": "text"
      },
      "source": [
        "<a href=\"https://colab.research.google.com/github/kanika26187/Mini-Project-25/blob/main/colored_video_to_greyscale.ipynb\" target=\"_parent\"><img src=\"https://colab.research.google.com/assets/colab-badge.svg\" alt=\"Open In Colab\"/></a>"
      ]
    },
    {
      "cell_type": "code",
      "source": [
        "!pip install opencv-python yt-dlp\n",
        "\n"
      ],
      "metadata": {
        "colab": {
          "base_uri": "https://localhost:8080/"
        },
        "id": "6gIGSolsVESv",
        "outputId": "11342425-91bf-4bbb-ad5d-9c04fbdcbb70"
      },
      "execution_count": 9,
      "outputs": [
        {
          "output_type": "stream",
          "name": "stdout",
          "text": [
            "Requirement already satisfied: opencv-python in /usr/local/lib/python3.11/dist-packages (4.11.0.86)\n",
            "Requirement already satisfied: yt-dlp in /usr/local/lib/python3.11/dist-packages (2025.6.25)\n",
            "Requirement already satisfied: numpy>=1.21.2 in /usr/local/lib/python3.11/dist-packages (from opencv-python) (2.0.2)\n"
          ]
        }
      ]
    },
    {
      "cell_type": "code",
      "source": [
        "import os\n",
        "import yt_dlp\n",
        "import cv2\n",
        "\n",
        "# Step 1: Use a valid YouTube video URL\n",
        "youtube_url = \"https://www.youtube.com/watch?v=5MgBikgcWnY\"\n",
        "\n",
        "# Step 2: Create a folder to store videos\n",
        "video_folder = 'videos'\n",
        "os.makedirs(video_folder, exist_ok=True)\n",
        "\n",
        "# Step 3: Define where to save the downloaded video\n",
        "downloaded_video_path = os.path.join(video_folder, 'downloaded_video.mp4')\n",
        "\n",
        "# Step 4: Download the YouTube video using yt_dlp\n",
        "ydl_opts = {\n",
        "    'format': 'mp4',\n",
        "    'outtmpl': downloaded_video_path,\n",
        "    'quiet': False\n",
        "}\n",
        "\n",
        "print(\" Downloading video...\")\n",
        "with yt_dlp.YoutubeDL(ydl_opts) as ydl:\n",
        "    ydl.download([youtube_url])\n",
        "print(\" Video downloaded successfully!\")\n",
        "\n",
        "# Step 5: Open the video using OpenCV\n",
        "cap = cv2.VideoCapture(downloaded_video_path)\n",
        "\n",
        "# Check if video opened successfully\n",
        "if not cap.isOpened():\n",
        "    print(\" Error: Could not open the downloaded video.\")\n",
        "    exit()\n",
        "\n",
        "# Get video properties\n",
        "fps = cap.get(cv2.CAP_PROP_FPS)\n",
        "width = int(cap.get(cv2.CAP_PROP_FRAME_WIDTH))\n",
        "height = int(cap.get(cv2.CAP_PROP_FRAME_HEIGHT))\n",
        "\n",
        "# Step 6: Define output path for grayscale video\n",
        "gray_video_path = os.path.join(video_folder, 'grayscale_video.avi')\n",
        "\n",
        "# Setup VideoWriter to save grayscale video\n",
        "fourcc = cv2.VideoWriter_fourcc(*'XVID')\n",
        "out = cv2.VideoWriter(gray_video_path, fourcc, fps, (width, height), isColor=False)\n",
        "\n",
        "# Step 7: Convert each frame to grayscale and save\n",
        "print(\" Converting video to grayscale...\")\n",
        "while True:\n",
        "    ret, frame = cap.read()\n",
        "    if not ret:\n",
        "        break\n",
        "\n",
        "    gray = cv2.cvtColor(frame, cv2.COLOR_BGR2GRAY)\n",
        "    out.write(gray)\n",
        "\n",
        "cap.release()\n",
        "out.release()\n",
        "\n",
        "print(f\"Grayscale video saved at: {gray_video_path}\")\n"
      ],
      "metadata": {
        "colab": {
          "base_uri": "https://localhost:8080/"
        },
        "id": "4L9F6OG2V3Az",
        "outputId": "b03c8ec1-8915-4eb3-a304-95430d434d33"
      },
      "execution_count": 2,
      "outputs": [
        {
          "output_type": "stream",
          "name": "stdout",
          "text": [
            " Downloading video...\n",
            "[youtube] Extracting URL: https://www.youtube.com/watch?v=5MgBikgcWnY\n",
            "[youtube] 5MgBikgcWnY: Downloading webpage\n",
            "[youtube] 5MgBikgcWnY: Downloading tv client config\n",
            "[youtube] 5MgBikgcWnY: Downloading player 8e20cb06-main\n",
            "[youtube] 5MgBikgcWnY: Downloading tv player API JSON\n",
            "[youtube] 5MgBikgcWnY: Downloading ios player API JSON\n",
            "[youtube] 5MgBikgcWnY: Downloading m3u8 information\n",
            "[info] 5MgBikgcWnY: Downloading 1 format(s): 18\n",
            "[download] videos/downloaded_video.mp4 has already been downloaded\n",
            "[download] 100% of   36.22MiB\n",
            " Video downloaded successfully!\n",
            " Converting video to grayscale...\n",
            "Grayscale video saved at: videos/grayscale_video.avi\n"
          ]
        }
      ]
    }
  ]
}